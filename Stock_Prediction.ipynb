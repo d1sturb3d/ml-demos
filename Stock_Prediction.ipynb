{
  "nbformat": 4,
  "nbformat_minor": 0,
  "metadata": {
    "colab": {
      "name": "Stock Prediction.ipynb",
      "provenance": [],
      "authorship_tag": "ABX9TyNhyLkBMCZ1X/6ZeclSXzVa",
      "include_colab_link": true
    },
    "kernelspec": {
      "name": "python3",
      "display_name": "Python 3"
    },
    "language_info": {
      "name": "python"
    }
  },
  "cells": [
    {
      "cell_type": "markdown",
      "metadata": {
        "id": "view-in-github",
        "colab_type": "text"
      },
      "source": [
        "<a href=\"https://colab.research.google.com/github/d1sturb3d/ml-demos/blob/main/Stock_Prediction.ipynb\" target=\"_parent\"><img src=\"https://colab.research.google.com/assets/colab-badge.svg\" alt=\"Open In Colab\"/></a>"
      ]
    },
    {
      "cell_type": "code",
      "metadata": {
        "id": "ZXtO9J6Ry-E_"
      },
      "source": [
        "# Author - Shardul Khadye\n",
        "\n",
        "# Description - Testing LSTM to predict stock prices"
      ],
      "execution_count": 18,
      "outputs": []
    },
    {
      "cell_type": "code",
      "metadata": {
        "id": "sWFR1tkYzDXM"
      },
      "source": [
        "import math\n",
        "import pandas_datareader as web\n",
        "import numpy as np \n",
        "import pandas as pd \n",
        "from sklearn.preprocessing import MinMaxScaler\n",
        "from keras.models import Sequential\n",
        "from keras.layers import Dense, LSTM\n",
        "import matplotlib.pyplot as plt"
      ],
      "execution_count": 19,
      "outputs": []
    },
    {
      "cell_type": "code",
      "metadata": {
        "colab": {
          "base_uri": "https://localhost:8080/",
          "height": 450
        },
        "id": "Gdb9g1f_zn0-",
        "outputId": "1681d349-e7db-4aae-f5cf-f07671b7c6c8"
      },
      "source": [
        "df = web.DataReader('AAPL',data_source='yahoo',start='2016-01-01',end='2021-01-01')\n",
        "\n",
        "df"
      ],
      "execution_count": 20,
      "outputs": [
        {
          "output_type": "execute_result",
          "data": {
            "text/html": [
              "<div>\n",
              "<style scoped>\n",
              "    .dataframe tbody tr th:only-of-type {\n",
              "        vertical-align: middle;\n",
              "    }\n",
              "\n",
              "    .dataframe tbody tr th {\n",
              "        vertical-align: top;\n",
              "    }\n",
              "\n",
              "    .dataframe thead th {\n",
              "        text-align: right;\n",
              "    }\n",
              "</style>\n",
              "<table border=\"1\" class=\"dataframe\">\n",
              "  <thead>\n",
              "    <tr style=\"text-align: right;\">\n",
              "      <th></th>\n",
              "      <th>High</th>\n",
              "      <th>Low</th>\n",
              "      <th>Open</th>\n",
              "      <th>Close</th>\n",
              "      <th>Volume</th>\n",
              "      <th>Adj Close</th>\n",
              "    </tr>\n",
              "    <tr>\n",
              "      <th>Date</th>\n",
              "      <th></th>\n",
              "      <th></th>\n",
              "      <th></th>\n",
              "      <th></th>\n",
              "      <th></th>\n",
              "      <th></th>\n",
              "    </tr>\n",
              "  </thead>\n",
              "  <tbody>\n",
              "    <tr>\n",
              "      <th>2016-01-04</th>\n",
              "      <td>26.342501</td>\n",
              "      <td>25.500000</td>\n",
              "      <td>25.652500</td>\n",
              "      <td>26.337500</td>\n",
              "      <td>270597600.0</td>\n",
              "      <td>24.364536</td>\n",
              "    </tr>\n",
              "    <tr>\n",
              "      <th>2016-01-05</th>\n",
              "      <td>26.462500</td>\n",
              "      <td>25.602501</td>\n",
              "      <td>26.437500</td>\n",
              "      <td>25.677500</td>\n",
              "      <td>223164000.0</td>\n",
              "      <td>23.753977</td>\n",
              "    </tr>\n",
              "    <tr>\n",
              "      <th>2016-01-06</th>\n",
              "      <td>25.592501</td>\n",
              "      <td>24.967501</td>\n",
              "      <td>25.139999</td>\n",
              "      <td>25.174999</td>\n",
              "      <td>273829600.0</td>\n",
              "      <td>23.289116</td>\n",
              "    </tr>\n",
              "    <tr>\n",
              "      <th>2016-01-07</th>\n",
              "      <td>25.032499</td>\n",
              "      <td>24.107500</td>\n",
              "      <td>24.670000</td>\n",
              "      <td>24.112499</td>\n",
              "      <td>324377600.0</td>\n",
              "      <td>22.306208</td>\n",
              "    </tr>\n",
              "    <tr>\n",
              "      <th>2016-01-08</th>\n",
              "      <td>24.777500</td>\n",
              "      <td>24.190001</td>\n",
              "      <td>24.637501</td>\n",
              "      <td>24.240000</td>\n",
              "      <td>283192000.0</td>\n",
              "      <td>22.424154</td>\n",
              "    </tr>\n",
              "    <tr>\n",
              "      <th>...</th>\n",
              "      <td>...</td>\n",
              "      <td>...</td>\n",
              "      <td>...</td>\n",
              "      <td>...</td>\n",
              "      <td>...</td>\n",
              "      <td>...</td>\n",
              "    </tr>\n",
              "    <tr>\n",
              "      <th>2020-12-24</th>\n",
              "      <td>133.460007</td>\n",
              "      <td>131.100006</td>\n",
              "      <td>131.320007</td>\n",
              "      <td>131.970001</td>\n",
              "      <td>54930100.0</td>\n",
              "      <td>131.773087</td>\n",
              "    </tr>\n",
              "    <tr>\n",
              "      <th>2020-12-28</th>\n",
              "      <td>137.339996</td>\n",
              "      <td>133.509995</td>\n",
              "      <td>133.990005</td>\n",
              "      <td>136.690002</td>\n",
              "      <td>124486200.0</td>\n",
              "      <td>136.486053</td>\n",
              "    </tr>\n",
              "    <tr>\n",
              "      <th>2020-12-29</th>\n",
              "      <td>138.789993</td>\n",
              "      <td>134.339996</td>\n",
              "      <td>138.050003</td>\n",
              "      <td>134.869995</td>\n",
              "      <td>121047300.0</td>\n",
              "      <td>134.668762</td>\n",
              "    </tr>\n",
              "    <tr>\n",
              "      <th>2020-12-30</th>\n",
              "      <td>135.990005</td>\n",
              "      <td>133.399994</td>\n",
              "      <td>135.580002</td>\n",
              "      <td>133.720001</td>\n",
              "      <td>96452100.0</td>\n",
              "      <td>133.520477</td>\n",
              "    </tr>\n",
              "    <tr>\n",
              "      <th>2020-12-31</th>\n",
              "      <td>134.740005</td>\n",
              "      <td>131.720001</td>\n",
              "      <td>134.080002</td>\n",
              "      <td>132.690002</td>\n",
              "      <td>99116600.0</td>\n",
              "      <td>132.492020</td>\n",
              "    </tr>\n",
              "  </tbody>\n",
              "</table>\n",
              "<p>1259 rows × 6 columns</p>\n",
              "</div>"
            ],
            "text/plain": [
              "                  High         Low  ...       Volume   Adj Close\n",
              "Date                                ...                         \n",
              "2016-01-04   26.342501   25.500000  ...  270597600.0   24.364536\n",
              "2016-01-05   26.462500   25.602501  ...  223164000.0   23.753977\n",
              "2016-01-06   25.592501   24.967501  ...  273829600.0   23.289116\n",
              "2016-01-07   25.032499   24.107500  ...  324377600.0   22.306208\n",
              "2016-01-08   24.777500   24.190001  ...  283192000.0   22.424154\n",
              "...                ...         ...  ...          ...         ...\n",
              "2020-12-24  133.460007  131.100006  ...   54930100.0  131.773087\n",
              "2020-12-28  137.339996  133.509995  ...  124486200.0  136.486053\n",
              "2020-12-29  138.789993  134.339996  ...  121047300.0  134.668762\n",
              "2020-12-30  135.990005  133.399994  ...   96452100.0  133.520477\n",
              "2020-12-31  134.740005  131.720001  ...   99116600.0  132.492020\n",
              "\n",
              "[1259 rows x 6 columns]"
            ]
          },
          "metadata": {
            "tags": []
          },
          "execution_count": 20
        }
      ]
    },
    {
      "cell_type": "code",
      "metadata": {
        "colab": {
          "base_uri": "https://localhost:8080/",
          "height": 478
        },
        "id": "bXo2ur1_0MiP",
        "outputId": "e7b12815-fadf-4600-e573-9cb6bca54e9c"
      },
      "source": [
        "# Visualisation of closing price\n",
        "\n",
        "plt.figure(figsize=(16,8))\n",
        "plt.title('Close Price History (APPLE)')\n",
        "plt.plot(df['Close'])\n",
        "plt.xlabel('Date')"
      ],
      "execution_count": 21,
      "outputs": [
        {
          "output_type": "execute_result",
          "data": {
            "text/plain": [
              "Text(0.5, 0, 'Date')"
            ]
          },
          "metadata": {
            "tags": []
          },
          "execution_count": 21
        },
        {
          "output_type": "display_data",
          "data": {
            "image/png": "[encoded data removed]",
            "text/plain": [
              "<Figure size 1152x576 with 1 Axes>"
            ]
          },
          "metadata": {
            "tags": [],
            "needs_background": "light"
          }
        }
      ]
    },
    {
      "cell_type": "code",
      "metadata": {
        "colab": {
          "base_uri": "https://localhost:8080/"
        },
        "id": "6XkcKTJu1Fro",
        "outputId": "388f8236-fb02-4f22-839c-d72d3398d814"
      },
      "source": [
        "data = df.filter(['Close'])\n",
        "\n",
        "dataset = data.values\n",
        "\n",
        "#using 80% for training\n",
        "\n",
        "training_data_len = math.ceil(len(dataset)*0.8)\n",
        "\n",
        "training_data_len"
      ],
      "execution_count": 22,
      "outputs": [
        {
          "output_type": "execute_result",
          "data": {
            "text/plain": [
              "1008"
            ]
          },
          "metadata": {
            "tags": []
          },
          "execution_count": 22
        }
      ]
    },
    {
      "cell_type": "code",
      "metadata": {
        "colab": {
          "base_uri": "https://localhost:8080/"
        },
        "id": "SDlNKTjB1rnl",
        "outputId": "b108d880-4fd7-49b6-de9d-7003f1953db9"
      },
      "source": [
        "#Scaling the data\n",
        "\n",
        "scaler = MinMaxScaler(feature_range=(0,1))\n",
        "\n",
        "scaled_data = scaler.fit_transform(dataset)\n",
        "\n",
        "scaled_data"
      ],
      "execution_count": 23,
      "outputs": [
        {
          "output_type": "execute_result",
          "data": {
            "text/plain": [
              "array([[0.03288638],\n",
              "       [0.02710224],\n",
              "       [0.02269839],\n",
              "       ...,\n",
              "       [0.98404971],\n",
              "       [0.97397133],\n",
              "       [0.96494457]])"
            ]
          },
          "metadata": {
            "tags": []
          },
          "execution_count": 23
        }
      ]
    },
    {
      "cell_type": "code",
      "metadata": {
        "id": "MRpTw6WZ3u5w",
        "colab": {
          "base_uri": "https://localhost:8080/"
        },
        "outputId": "66a4d14a-9640-44da-c622-aa49dcfff6f1"
      },
      "source": [
        "train_data = scaled_data[0:training_data_len,:]\n",
        "\n",
        "x_train = []\n",
        "y_train = []\n",
        "\n",
        "for i in range(60,len(train_data)):\n",
        "  x_train.append(train_data[i-60:i,0])\n",
        "  y_train.append(train_data[i,0])\n",
        "  if i<=61:\n",
        "    print(x_train)\n",
        "    print(y_train)\n",
        "    print()"
      ],
      "execution_count": 25,
      "outputs": [
        {
          "output_type": "stream",
          "text": [
            "[array([0.03288638, 0.02710224, 0.02269839, 0.01338679, 0.01450419,\n",
            "       0.017944  , 0.02107708, 0.01544631, 0.02011305, 0.01487665,\n",
            "       0.01384691, 0.01413173, 0.01305816, 0.02427589, 0.01993779,\n",
            "       0.02114281, 0.00674817, 0.00821612, 0.01533675, 0.01334298,\n",
            "       0.00907061, 0.0131677 , 0.01371544, 0.00806275, 0.01023182,\n",
            "       0.01018799, 0.00861049, 0.00736164, 0.00799702, 0.01380308,\n",
            "       0.01704572, 0.01297052, 0.01248851, 0.01432891, 0.00953071,\n",
            "       0.01261996, 0.014066  , 0.01439465, 0.01391264, 0.02232593,\n",
            "       0.02280795, 0.02445117, 0.02775953, 0.02526183, 0.02342141,\n",
            "       0.02361861, 0.02372815, 0.02611631, 0.02668595, 0.03119935,\n",
            "       0.03424478, 0.03387232, 0.03413523, 0.03411333, 0.03588801,\n",
            "       0.03459533, 0.03358749, 0.03253583, 0.03799133, 0.04211034])]\n",
            "[0.04086148936769132]\n",
            "\n",
            "[array([0.03288638, 0.02710224, 0.02269839, 0.01338679, 0.01450419,\n",
            "       0.017944  , 0.02107708, 0.01544631, 0.02011305, 0.01487665,\n",
            "       0.01384691, 0.01413173, 0.01305816, 0.02427589, 0.01993779,\n",
            "       0.02114281, 0.00674817, 0.00821612, 0.01533675, 0.01334298,\n",
            "       0.00907061, 0.0131677 , 0.01371544, 0.00806275, 0.01023182,\n",
            "       0.01018799, 0.00861049, 0.00736164, 0.00799702, 0.01380308,\n",
            "       0.01704572, 0.01297052, 0.01248851, 0.01432891, 0.00953071,\n",
            "       0.01261996, 0.014066  , 0.01439465, 0.01391264, 0.02232593,\n",
            "       0.02280795, 0.02445117, 0.02775953, 0.02526183, 0.02342141,\n",
            "       0.02361861, 0.02372815, 0.02611631, 0.02668595, 0.03119935,\n",
            "       0.03424478, 0.03387232, 0.03413523, 0.03411333, 0.03588801,\n",
            "       0.03459533, 0.03358749, 0.03253583, 0.03799133, 0.04211034]), array([0.02710224, 0.02269839, 0.01338679, 0.01450419, 0.017944  ,\n",
            "       0.02107708, 0.01544631, 0.02011305, 0.01487665, 0.01384691,\n",
            "       0.01413173, 0.01305816, 0.02427589, 0.01993779, 0.02114281,\n",
            "       0.00674817, 0.00821612, 0.01533675, 0.01334298, 0.00907061,\n",
            "       0.0131677 , 0.01371544, 0.00806275, 0.01023182, 0.01018799,\n",
            "       0.00861049, 0.00736164, 0.00799702, 0.01380308, 0.01704572,\n",
            "       0.01297052, 0.01248851, 0.01432891, 0.00953071, 0.01261996,\n",
            "       0.014066  , 0.01439465, 0.01391264, 0.02232593, 0.02280795,\n",
            "       0.02445117, 0.02775953, 0.02526183, 0.02342141, 0.02361861,\n",
            "       0.02372815, 0.02611631, 0.02668595, 0.03119935, 0.03424478,\n",
            "       0.03387232, 0.03413523, 0.03411333, 0.03588801, 0.03459533,\n",
            "       0.03358749, 0.03253583, 0.03799133, 0.04211034, 0.04086149])]\n",
            "[0.04086148936769132, 0.043052453765790255]\n",
            "\n"
          ],
          "name": "stdout"
        }
      ]
    },
    {
      "cell_type": "code",
      "metadata": {
        "id": "IPj0IQB2Aq1X"
      },
      "source": [
        "#converting to numpy arrays\n",
        "\n",
        "x_train,y_train = np.array(x_train), np.array(y_train)"
      ],
      "execution_count": 26,
      "outputs": []
    },
    {
      "cell_type": "code",
      "metadata": {
        "colab": {
          "base_uri": "https://localhost:8080/"
        },
        "id": "lDnwjnovBn3Z",
        "outputId": "bc5e690f-a79e-4efc-cfb2-598fb7ba925a"
      },
      "source": [
        "#LSTM needs 3d data\n",
        "\n",
        "x_train = np.reshape(x_train,(x_train.shape[0],x_train.shape[1],1))\n",
        "x_train.shape"
      ],
      "execution_count": 27,
      "outputs": [
        {
          "output_type": "execute_result",
          "data": {
            "text/plain": [
              "(948, 60, 1)"
            ]
          },
          "metadata": {
            "tags": []
          },
          "execution_count": 27
        }
      ]
    },
    {
      "cell_type": "code",
      "metadata": {
        "id": "53grikYDB1YC"
      },
      "source": [
        "#LSTM\n",
        "model = Sequential()\n",
        "\n",
        "model.add(LSTM(50,return_sequences=True , input_shape =(x_train.shape[1],1)))\n",
        "model.add(LSTM(50,return_sequences=False))\n",
        "model.add(Dense(25))\n",
        "model.add(Dense(1))"
      ],
      "execution_count": 31,
      "outputs": []
    },
    {
      "cell_type": "code",
      "metadata": {
        "id": "0OXzjsa0CXtj"
      },
      "source": [
        "model.compile(optimizer='adam',loss = 'mean_squared_error')"
      ],
      "execution_count": 33,
      "outputs": []
    },
    {
      "cell_type": "code",
      "metadata": {
        "colab": {
          "base_uri": "https://localhost:8080/"
        },
        "id": "cFA6km9lCo40",
        "outputId": "fdf3e118-541b-4785-b27d-91411651fce4"
      },
      "source": [
        "## Training\n",
        "\n",
        "model.fit(x_train,y_train,batch_size=1,epochs=1)"
      ],
      "execution_count": 34,
      "outputs": [
        {
          "output_type": "stream",
          "text": [
            "948/948 [==============================] - 24s 23ms/step - loss: 0.0014\n"
          ],
          "name": "stdout"
        },
        {
          "output_type": "execute_result",
          "data": {
            "text/plain": [
              "<tensorflow.python.keras.callbacks.History at 0x7f9a65543c50>"
            ]
          },
          "metadata": {
            "tags": []
          },
          "execution_count": 34
        }
      ]
    },
    {
      "cell_type": "code",
      "metadata": {
        "id": "OKRrBZi3C6x3"
      },
      "source": [
        "# Create testing dataset\n",
        "\n",
        "test_data = scaled_data[training_data_len-60:,:]\n",
        "\n",
        "x_test =[]\n",
        "y_test = dataset[training_data_len:,:]\n",
        "\n",
        "for i in range(60,len(test_data)):\n",
        "  x_test.append(test_data[i-60:i,0])"
      ],
      "execution_count": 35,
      "outputs": []
    },
    {
      "cell_type": "code",
      "metadata": {
        "id": "JmuhfQ0PDcZ2"
      },
      "source": [
        "# converting to numpy array\n",
        "\n",
        "x_test = np.array(x_test)"
      ],
      "execution_count": 36,
      "outputs": []
    },
    {
      "cell_type": "code",
      "metadata": {
        "id": "9U_ijTtgDhME"
      },
      "source": [
        "x_test = np.reshape(x_test,(x_test.shape[0],x_test.shape[1],1))"
      ],
      "execution_count": 37,
      "outputs": []
    },
    {
      "cell_type": "code",
      "metadata": {
        "id": "KwktwbG9Dprz"
      },
      "source": [
        "# Predicted Values\n",
        "\n",
        "predictions = model.predict(x_test)\n",
        "\n",
        "predictions = scaler.inverse_transform(predictions)"
      ],
      "execution_count": 38,
      "outputs": []
    },
    {
      "cell_type": "code",
      "metadata": {
        "colab": {
          "base_uri": "https://localhost:8080/"
        },
        "id": "adRQByM-D9sO",
        "outputId": "1c5b24e4-55ed-4ae5-fa60-e67b802fa03a"
      },
      "source": [
        "# RMSE\n",
        "\n",
        "rmse = np.sqrt(np.mean(predictions-y_test)**2)\n",
        "print(rmse)"
      ],
      "execution_count": 40,
      "outputs": [
        {
          "output_type": "stream",
          "text": [
            "4.037520116068928\n"
          ],
          "name": "stdout"
        }
      ]
    },
    {
      "cell_type": "code",
      "metadata": {
        "colab": {
          "base_uri": "https://localhost:8080/",
          "height": 577
        },
        "id": "yTAVkuB4ERVA",
        "outputId": "f075f4ea-4183-48bf-e890-289012158bd7"
      },
      "source": [
        "# Visualizing\n",
        "\n",
        "train = data[:training_data_len]\n",
        "valid = data[training_data_len:]\n",
        "valid['Predictions']  = predictions\n",
        "\n",
        "plt.figure(figsize=(16,8))\n",
        "plt.title('Model')\n",
        "plt.xlabel('Date')\n",
        "plt.ylabel('Close Price')\n",
        "plt.plot(train['Close'])\n",
        "plt.plot(valid[['Close','Predictions']])\n",
        "plt.legend(['Train','Val','Predictions'],loc= 'lower right')\n",
        "plt.show()"
      ],
      "execution_count": 41,
      "outputs": [
        {
          "output_type": "stream",
          "text": [
            "/usr/local/lib/python3.7/dist-packages/ipykernel_launcher.py:5: SettingWithCopyWarning: \n",
            "A value is trying to be set on a copy of a slice from a DataFrame.\n",
            "Try using .loc[row_indexer,col_indexer] = value instead\n",
            "\n",
            "See the caveats in the documentation: https://pandas.pydata.org/pandas-docs/stable/user_guide/indexing.html#returning-a-view-versus-a-copy\n",
            "  \"\"\"\n"
          ],
          "name": "stderr"
        },
        {
          "output_type": "display_data",
          "data": {
            "image/png": "[encoded data removed]",
            "text/plain": [
              "<Figure size 1152x576 with 1 Axes>"
            ]
          },
          "metadata": {
            "tags": [],
            "needs_background": "light"
          }
        }
      ]
    },
    {
      "cell_type": "code",
      "metadata": {
        "colab": {
          "base_uri": "https://localhost:8080/",
          "height": 450
        },
        "id": "POZGVH3RFTQx",
        "outputId": "6e8c2821-0e0f-4f2b-f3ea-8f589220dc42"
      },
      "source": [
        "valid"
      ],
      "execution_count": 42,
      "outputs": [
        {
          "output_type": "execute_result",
          "data": {
            "text/html": [
              "<div>\n",
              "<style scoped>\n",
              "    .dataframe tbody tr th:only-of-type {\n",
              "        vertical-align: middle;\n",
              "    }\n",
              "\n",
              "    .dataframe tbody tr th {\n",
              "        vertical-align: top;\n",
              "    }\n",
              "\n",
              "    .dataframe thead th {\n",
              "        text-align: right;\n",
              "    }\n",
              "</style>\n",
              "<table border=\"1\" class=\"dataframe\">\n",
              "  <thead>\n",
              "    <tr style=\"text-align: right;\">\n",
              "      <th></th>\n",
              "      <th>Close</th>\n",
              "      <th>Predictions</th>\n",
              "    </tr>\n",
              "    <tr>\n",
              "      <th>Date</th>\n",
              "      <th></th>\n",
              "      <th></th>\n",
              "    </tr>\n",
              "  </thead>\n",
              "  <tbody>\n",
              "    <tr>\n",
              "      <th>2020-01-06</th>\n",
              "      <td>74.949997</td>\n",
              "      <td>71.149467</td>\n",
              "    </tr>\n",
              "    <tr>\n",
              "      <th>2020-01-07</th>\n",
              "      <td>74.597504</td>\n",
              "      <td>71.630714</td>\n",
              "    </tr>\n",
              "    <tr>\n",
              "      <th>2020-01-08</th>\n",
              "      <td>75.797501</td>\n",
              "      <td>72.013641</td>\n",
              "    </tr>\n",
              "    <tr>\n",
              "      <th>2020-01-09</th>\n",
              "      <td>77.407501</td>\n",
              "      <td>72.417435</td>\n",
              "    </tr>\n",
              "    <tr>\n",
              "      <th>2020-01-10</th>\n",
              "      <td>77.582497</td>\n",
              "      <td>72.944183</td>\n",
              "    </tr>\n",
              "    <tr>\n",
              "      <th>...</th>\n",
              "      <td>...</td>\n",
              "      <td>...</td>\n",
              "    </tr>\n",
              "    <tr>\n",
              "      <th>2020-12-24</th>\n",
              "      <td>131.970001</td>\n",
              "      <td>123.951126</td>\n",
              "    </tr>\n",
              "    <tr>\n",
              "      <th>2020-12-28</th>\n",
              "      <td>136.690002</td>\n",
              "      <td>124.860863</td>\n",
              "    </tr>\n",
              "    <tr>\n",
              "      <th>2020-12-29</th>\n",
              "      <td>134.869995</td>\n",
              "      <td>126.200317</td>\n",
              "    </tr>\n",
              "    <tr>\n",
              "      <th>2020-12-30</th>\n",
              "      <td>133.720001</td>\n",
              "      <td>127.396507</td>\n",
              "    </tr>\n",
              "    <tr>\n",
              "      <th>2020-12-31</th>\n",
              "      <td>132.690002</td>\n",
              "      <td>128.280319</td>\n",
              "    </tr>\n",
              "  </tbody>\n",
              "</table>\n",
              "<p>251 rows × 2 columns</p>\n",
              "</div>"
            ],
            "text/plain": [
              "                 Close  Predictions\n",
              "Date                               \n",
              "2020-01-06   74.949997    71.149467\n",
              "2020-01-07   74.597504    71.630714\n",
              "2020-01-08   75.797501    72.013641\n",
              "2020-01-09   77.407501    72.417435\n",
              "2020-01-10   77.582497    72.944183\n",
              "...                ...          ...\n",
              "2020-12-24  131.970001   123.951126\n",
              "2020-12-28  136.690002   124.860863\n",
              "2020-12-29  134.869995   126.200317\n",
              "2020-12-30  133.720001   127.396507\n",
              "2020-12-31  132.690002   128.280319\n",
              "\n",
              "[251 rows x 2 columns]"
            ]
          },
          "metadata": {
            "tags": []
          },
          "execution_count": 42
        }
      ]
    },
    {
      "cell_type": "code",
      "metadata": {
        "colab": {
          "base_uri": "https://localhost:8080/",
          "height": 450
        },
        "id": "Tx_dNuHXF7wG",
        "outputId": "dc2c69ca-8945-45e5-c4fd-499ec3b551ed"
      },
      "source": [
        "apple_quote= web.DataReader('AAPL',data_source='yahoo',start = '2016-01-01',end = '2021-04-17')\n",
        "apple_quote"
      ],
      "execution_count": 49,
      "outputs": [
        {
          "output_type": "execute_result",
          "data": {
            "text/html": [
              "<div>\n",
              "<style scoped>\n",
              "    .dataframe tbody tr th:only-of-type {\n",
              "        vertical-align: middle;\n",
              "    }\n",
              "\n",
              "    .dataframe tbody tr th {\n",
              "        vertical-align: top;\n",
              "    }\n",
              "\n",
              "    .dataframe thead th {\n",
              "        text-align: right;\n",
              "    }\n",
              "</style>\n",
              "<table border=\"1\" class=\"dataframe\">\n",
              "  <thead>\n",
              "    <tr style=\"text-align: right;\">\n",
              "      <th></th>\n",
              "      <th>High</th>\n",
              "      <th>Low</th>\n",
              "      <th>Open</th>\n",
              "      <th>Close</th>\n",
              "      <th>Volume</th>\n",
              "      <th>Adj Close</th>\n",
              "    </tr>\n",
              "    <tr>\n",
              "      <th>Date</th>\n",
              "      <th></th>\n",
              "      <th></th>\n",
              "      <th></th>\n",
              "      <th></th>\n",
              "      <th></th>\n",
              "      <th></th>\n",
              "    </tr>\n",
              "  </thead>\n",
              "  <tbody>\n",
              "    <tr>\n",
              "      <th>2016-01-04</th>\n",
              "      <td>26.342501</td>\n",
              "      <td>25.500000</td>\n",
              "      <td>25.652500</td>\n",
              "      <td>26.337500</td>\n",
              "      <td>270597600.0</td>\n",
              "      <td>24.364536</td>\n",
              "    </tr>\n",
              "    <tr>\n",
              "      <th>2016-01-05</th>\n",
              "      <td>26.462500</td>\n",
              "      <td>25.602501</td>\n",
              "      <td>26.437500</td>\n",
              "      <td>25.677500</td>\n",
              "      <td>223164000.0</td>\n",
              "      <td>23.753977</td>\n",
              "    </tr>\n",
              "    <tr>\n",
              "      <th>2016-01-06</th>\n",
              "      <td>25.592501</td>\n",
              "      <td>24.967501</td>\n",
              "      <td>25.139999</td>\n",
              "      <td>25.174999</td>\n",
              "      <td>273829600.0</td>\n",
              "      <td>23.289116</td>\n",
              "    </tr>\n",
              "    <tr>\n",
              "      <th>2016-01-07</th>\n",
              "      <td>25.032499</td>\n",
              "      <td>24.107500</td>\n",
              "      <td>24.670000</td>\n",
              "      <td>24.112499</td>\n",
              "      <td>324377600.0</td>\n",
              "      <td>22.306208</td>\n",
              "    </tr>\n",
              "    <tr>\n",
              "      <th>2016-01-08</th>\n",
              "      <td>24.777500</td>\n",
              "      <td>24.190001</td>\n",
              "      <td>24.637501</td>\n",
              "      <td>24.240000</td>\n",
              "      <td>283192000.0</td>\n",
              "      <td>22.424154</td>\n",
              "    </tr>\n",
              "    <tr>\n",
              "      <th>...</th>\n",
              "      <td>...</td>\n",
              "      <td>...</td>\n",
              "      <td>...</td>\n",
              "      <td>...</td>\n",
              "      <td>...</td>\n",
              "      <td>...</td>\n",
              "    </tr>\n",
              "    <tr>\n",
              "      <th>2021-04-12</th>\n",
              "      <td>132.850006</td>\n",
              "      <td>130.630005</td>\n",
              "      <td>132.520004</td>\n",
              "      <td>131.240005</td>\n",
              "      <td>91420000.0</td>\n",
              "      <td>131.240005</td>\n",
              "    </tr>\n",
              "    <tr>\n",
              "      <th>2021-04-13</th>\n",
              "      <td>134.660004</td>\n",
              "      <td>131.929993</td>\n",
              "      <td>132.440002</td>\n",
              "      <td>134.429993</td>\n",
              "      <td>91266500.0</td>\n",
              "      <td>134.429993</td>\n",
              "    </tr>\n",
              "    <tr>\n",
              "      <th>2021-04-14</th>\n",
              "      <td>135.000000</td>\n",
              "      <td>131.660004</td>\n",
              "      <td>134.940002</td>\n",
              "      <td>132.029999</td>\n",
              "      <td>87222800.0</td>\n",
              "      <td>132.029999</td>\n",
              "    </tr>\n",
              "    <tr>\n",
              "      <th>2021-04-15</th>\n",
              "      <td>135.000000</td>\n",
              "      <td>133.639999</td>\n",
              "      <td>133.820007</td>\n",
              "      <td>134.500000</td>\n",
              "      <td>89347100.0</td>\n",
              "      <td>134.500000</td>\n",
              "    </tr>\n",
              "    <tr>\n",
              "      <th>2021-04-16</th>\n",
              "      <td>134.669998</td>\n",
              "      <td>133.279999</td>\n",
              "      <td>134.300003</td>\n",
              "      <td>134.160004</td>\n",
              "      <td>84818500.0</td>\n",
              "      <td>134.160004</td>\n",
              "    </tr>\n",
              "  </tbody>\n",
              "</table>\n",
              "<p>1331 rows × 6 columns</p>\n",
              "</div>"
            ],
            "text/plain": [
              "                  High         Low  ...       Volume   Adj Close\n",
              "Date                                ...                         \n",
              "2016-01-04   26.342501   25.500000  ...  270597600.0   24.364536\n",
              "2016-01-05   26.462500   25.602501  ...  223164000.0   23.753977\n",
              "2016-01-06   25.592501   24.967501  ...  273829600.0   23.289116\n",
              "2016-01-07   25.032499   24.107500  ...  324377600.0   22.306208\n",
              "2016-01-08   24.777500   24.190001  ...  283192000.0   22.424154\n",
              "...                ...         ...  ...          ...         ...\n",
              "2021-04-12  132.850006  130.630005  ...   91420000.0  131.240005\n",
              "2021-04-13  134.660004  131.929993  ...   91266500.0  134.429993\n",
              "2021-04-14  135.000000  131.660004  ...   87222800.0  132.029999\n",
              "2021-04-15  135.000000  133.639999  ...   89347100.0  134.500000\n",
              "2021-04-16  134.669998  133.279999  ...   84818500.0  134.160004\n",
              "\n",
              "[1331 rows x 6 columns]"
            ]
          },
          "metadata": {
            "tags": []
          },
          "execution_count": 49
        }
      ]
    },
    {
      "cell_type": "code",
      "metadata": {
        "id": "uM7z-N-IHAI6"
      },
      "source": [
        "new_df = apple_quote.filter(['Close'])\n",
        "\n",
        "last_60_days = new_df[-60:].values\n",
        "\n",
        "last_60_days_scaled = scaler.transform(last_60_days)\n",
        "\n",
        "X_test = []\n",
        "\n",
        "X_test.append(last_60_days_scaled)\n",
        "\n",
        "X_test = np.array(X_test)\n",
        "\n",
        "X_test = np.reshape(X_test,(X_test.shape[0],X_test.shape[1],1))"
      ],
      "execution_count": 50,
      "outputs": []
    },
    {
      "cell_type": "code",
      "metadata": {
        "id": "hMGwJFOrILO5"
      },
      "source": [
        "pred_price = model.predict(X_test)"
      ],
      "execution_count": 51,
      "outputs": []
    },
    {
      "cell_type": "code",
      "metadata": {
        "colab": {
          "base_uri": "https://localhost:8080/"
        },
        "id": "ymrjhRAZITbc",
        "outputId": "df95012b-bba6-490b-d060-a66da7289b13"
      },
      "source": [
        "pred_price = scaler.inverse_transform(pred_price)\n",
        "print(pred_price)"
      ],
      "execution_count": 52,
      "outputs": [
        {
          "output_type": "stream",
          "text": [
            "[[128.21445]]\n"
          ],
          "name": "stdout"
        }
      ]
    },
    {
      "cell_type": "code",
      "metadata": {
        "id": "9vkqRCQuIa71"
      },
      "source": [
        "apple_quote_new = web.DataReader('AAPL',data_source='yahoo',start = '2021-04-15',end = '2021-04-15')"
      ],
      "execution_count": 57,
      "outputs": []
    },
    {
      "cell_type": "code",
      "metadata": {
        "colab": {
          "base_uri": "https://localhost:8080/",
          "height": 111
        },
        "id": "fSjjCaf4JSxS",
        "outputId": "1ab9a7ce-69a6-4a43-8b32-2e13c6acbf9d"
      },
      "source": [
        "apple_quote_new"
      ],
      "execution_count": 58,
      "outputs": [
        {
          "output_type": "execute_result",
          "data": {
            "text/html": [
              "<div>\n",
              "<style scoped>\n",
              "    .dataframe tbody tr th:only-of-type {\n",
              "        vertical-align: middle;\n",
              "    }\n",
              "\n",
              "    .dataframe tbody tr th {\n",
              "        vertical-align: top;\n",
              "    }\n",
              "\n",
              "    .dataframe thead th {\n",
              "        text-align: right;\n",
              "    }\n",
              "</style>\n",
              "<table border=\"1\" class=\"dataframe\">\n",
              "  <thead>\n",
              "    <tr style=\"text-align: right;\">\n",
              "      <th></th>\n",
              "      <th>High</th>\n",
              "      <th>Low</th>\n",
              "      <th>Open</th>\n",
              "      <th>Close</th>\n",
              "      <th>Volume</th>\n",
              "      <th>Adj Close</th>\n",
              "    </tr>\n",
              "    <tr>\n",
              "      <th>Date</th>\n",
              "      <th></th>\n",
              "      <th></th>\n",
              "      <th></th>\n",
              "      <th></th>\n",
              "      <th></th>\n",
              "      <th></th>\n",
              "    </tr>\n",
              "  </thead>\n",
              "  <tbody>\n",
              "    <tr>\n",
              "      <th>2021-04-15</th>\n",
              "      <td>135</td>\n",
              "      <td>133.639999</td>\n",
              "      <td>133.820007</td>\n",
              "      <td>134.5</td>\n",
              "      <td>89347100</td>\n",
              "      <td>134.5</td>\n",
              "    </tr>\n",
              "  </tbody>\n",
              "</table>\n",
              "</div>"
            ],
            "text/plain": [
              "            High         Low        Open  Close    Volume  Adj Close\n",
              "Date                                                                \n",
              "2021-04-15   135  133.639999  133.820007  134.5  89347100      134.5"
            ]
          },
          "metadata": {
            "tags": []
          },
          "execution_count": 58
        }
      ]
    },
    {
      "cell_type": "code",
      "metadata": {
        "id": "BvC6Fe1dLXMF"
      },
      "source": [
        ""
      ],
      "execution_count": null,
      "outputs": []
    }
  ]
}